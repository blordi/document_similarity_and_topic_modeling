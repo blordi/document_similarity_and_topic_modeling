{
 "cells": [
  {
   "cell_type": "markdown",
   "id": "f034e1d9-bdcf-46aa-94d7-0eb9a6751354",
   "metadata": {},
   "source": [
    "# Document Similarity & Topic Modelling"
   ]
  },
  {
   "cell_type": "markdown",
   "id": "c5547c5c-9aa0-4414-81a0-168479d6cdb5",
   "metadata": {},
   "source": [
    "## Part 1 - Document Similarity\n",
    "\n",
    "For the first part of this project, I wrote the functions `doc_to_synsets` and `similarity_score` which were used by `document_path_similarity` to find the path similarity between two documents.\n",
    "\n",
    "The following functions I did not write but are used in this project:\n",
    "* **`convert_tag:`** converts the tag given by `nltk.pos_tag` to a tag used by `wordnet.synsets`. \n",
    "* **`document_path_similarity:`** computes the symmetrical path similarity between two documents by finding the synsets in each document using `doc_to_synsets`, then computing similarities using `similarity_score`.\n",
    "\n",
    "These functions I did create for this project:\n",
    "* **`doc_to_synsets:`** returns a list of synsets in document. This function first tokenizes and then tags a part of speech in the document using `nltk.word_tokenize` and `nltk.pos_tag`. Then it finds each tokens corresponding synset using `wn.synsets(token, wordnet_tag)`. The first synset match is used. If there is no match, that token is skipped.\n",
    "* **`similarity_score:`** returns the normalized similarity score of a list of synsets (s1) onto a second list of synsets (s2). For each synset in s1, it finds the synset in s2 with the largest similarity value. All of the largest similarity values are summed together and normalized by dividing by the number of largest similarity values found. Missing values are ignored."
   ]
  },
  {
   "cell_type": "code",
   "execution_count": 64,
   "id": "3f2f380c-d3b5-4b32-8a89-ab7186ce03b7",
   "metadata": {},
   "outputs": [],
   "source": [
    "%%capture\n",
    "import numpy as np\n",
    "import nltk\n",
    "nltk.download('punkt')\n",
    "from nltk.corpus import wordnet as wn\n",
    "import pandas as pd\n",
    "nltk.data.path.append(\"assets/\")\n",
    "\n",
    "def convert_tag(tag):\n",
    "    \"\"\"Convert the tag given by nltk.pos_tag to the tag used by wordnet.synsets\"\"\"\n",
    "    \n",
    "    tag_dict = {'N': 'n', 'J': 'a', 'R': 'r', 'V': 'v'}\n",
    "    try:\n",
    "        return tag_dict[tag[0]]\n",
    "    except KeyError:\n",
    "        return None"
   ]
  },
  {
   "cell_type": "code",
   "execution_count": 65,
   "id": "f9acec55-071c-48c6-8bd7-91abd02e9a7e",
   "metadata": {},
   "outputs": [
    {
     "data": {
      "text/plain": [
       "[Synset('fish.n.01'), Synset('be.v.01'), Synset('friend.n.01')]"
      ]
     },
     "execution_count": 65,
     "metadata": {},
     "output_type": "execute_result"
    }
   ],
   "source": [
    "nltk.download('averaged_perceptron_tagger')\n",
    "nltk.download('wordnet')\n",
    "nltk.download('omw-1.4')\n",
    "def doc_to_synsets(doc):\n",
    "    \"\"\"\n",
    "    Returns a list of synsets in document.\n",
    "\n",
    "    Tokenizes and tags the words in the document doc.\n",
    "    Then finds the first synset for each word/tag combination.\n",
    "    If a synset is not found for that combination it is skipped.\n",
    "\n",
    "    Args:\n",
    "        doc: string to be converted\n",
    "\n",
    "    Returns:\n",
    "        list of synsets\n",
    "\n",
    "    Example:\n",
    "        doc_to_synsets('Fish are friends.')\n",
    "        Out: [Synset('fish.n.01'), Synset('be.v.01'), Synset('friend.n.01')]\n",
    "    \"\"\"\n",
    "\n",
    "    tokens = nltk.word_tokenize(doc)\n",
    "    pos = nltk.pos_tag(tokens)\n",
    "    tag = [tag[1] for tag in pos]\n",
    "    wntag = [convert_tag(tags) for tags in tag]\n",
    "    wnpos = list(zip(tokens,wntag))\n",
    "    synset_list = []\n",
    "    for word,tag in wnpos:\n",
    "            synset_list.append(wn.synsets(word,tag))\n",
    "    final = [val[0] for val in synset_list if len(val) > 0] \n",
    "    # final = synset_list\n",
    "    return final\n",
    "\n",
    "\n",
    "\n",
    "def similarity_score(s1, s2):\n",
    "    \"\"\"\n",
    "    returns the normalized similarity score of a list of synsets (s1) onto a second list of synsets (s2). \n",
    "    For each synset in s1, it finds the synset in s2 with the largest similarity value. \n",
    "    All of the largest similarity values are summed together and normalized by dividing by the number of largest \n",
    "    similarity values found. Missing values are ignored.\n",
    "    \"\"\"\n",
    "    max_sim = []\n",
    "    for x in s1:\n",
    "        sim = []\n",
    "        for y in s2:\n",
    "            sim.append(x.path_similarity(y))\n",
    "            sim = [word for word in sim if word !=None]\n",
    "        if(sim):\n",
    "            max_sim.append(max(sim))\n",
    "    return sum(max_sim)/len(max_sim)\n",
    "doc_to_synsets('Fish are friends.')"
   ]
  },
  {
   "cell_type": "code",
   "execution_count": 66,
   "id": "cc878f02-35e6-4d6e-b058-d9681f5d8423",
   "metadata": {},
   "outputs": [],
   "source": [
    "def document_path_similarity(doc1, doc2):\n",
    "    \"\"\"Finds the symmetrical similarity between doc1 and doc2\"\"\"\n",
    "\n",
    "    synsets1 = doc_to_synsets(doc1)\n",
    "    synsets2 = doc_to_synsets(doc2)\n",
    "\n",
    "    return (similarity_score(synsets1, synsets2) + similarity_score(synsets2, synsets1)) / 2\n"
   ]
  },
  {
   "cell_type": "markdown",
   "id": "6ed899fd-0b40-4bad-b2c5-f9b7cff6b6f0",
   "metadata": {},
   "source": [
    "`paraphrases` is a DataFrame which contains the following columns: `Quality`, `D1`, and `D2`.\n",
    "\n",
    "`Quality` is an indicator variable which indicates if the two documents `D1` and `D2` are paraphrases of one another (1 for paraphrase, 0 for not paraphrase)."
   ]
  },
  {
   "cell_type": "code",
   "execution_count": 67,
   "id": "b7d8f96c-e230-4f44-88c3-145a8ad1356a",
   "metadata": {},
   "outputs": [
    {
     "data": {
      "text/html": [
       "<div>\n",
       "<style scoped>\n",
       "    .dataframe tbody tr th:only-of-type {\n",
       "        vertical-align: middle;\n",
       "    }\n",
       "\n",
       "    .dataframe tbody tr th {\n",
       "        vertical-align: top;\n",
       "    }\n",
       "\n",
       "    .dataframe thead th {\n",
       "        text-align: right;\n",
       "    }\n",
       "</style>\n",
       "<table border=\"1\" class=\"dataframe\">\n",
       "  <thead>\n",
       "    <tr style=\"text-align: right;\">\n",
       "      <th></th>\n",
       "      <th>Quality</th>\n",
       "      <th>D1</th>\n",
       "      <th>D2</th>\n",
       "    </tr>\n",
       "  </thead>\n",
       "  <tbody>\n",
       "    <tr>\n",
       "      <th>0</th>\n",
       "      <td>1</td>\n",
       "      <td>Ms Stewart, the chief executive, was not expec...</td>\n",
       "      <td>Ms Stewart, 61, its chief executive officer an...</td>\n",
       "    </tr>\n",
       "    <tr>\n",
       "      <th>1</th>\n",
       "      <td>1</td>\n",
       "      <td>After more than two years' detention under the...</td>\n",
       "      <td>After more than two years in detention by the ...</td>\n",
       "    </tr>\n",
       "    <tr>\n",
       "      <th>2</th>\n",
       "      <td>1</td>\n",
       "      <td>\"It still remains to be seen whether the reven...</td>\n",
       "      <td>\"It remains to be seen whether the revenue rec...</td>\n",
       "    </tr>\n",
       "    <tr>\n",
       "      <th>3</th>\n",
       "      <td>0</td>\n",
       "      <td>And it's going to be a wild ride,\" said Allan ...</td>\n",
       "      <td>Now the rest is just mechanical,\" said Allan H...</td>\n",
       "    </tr>\n",
       "    <tr>\n",
       "      <th>4</th>\n",
       "      <td>1</td>\n",
       "      <td>The cards are issued by Mexico's consulates to...</td>\n",
       "      <td>The card is issued by Mexico's consulates to i...</td>\n",
       "    </tr>\n",
       "  </tbody>\n",
       "</table>\n",
       "</div>"
      ],
      "text/plain": [
       "   Quality                                                 D1  \\\n",
       "0        1  Ms Stewart, the chief executive, was not expec...   \n",
       "1        1  After more than two years' detention under the...   \n",
       "2        1  \"It still remains to be seen whether the reven...   \n",
       "3        0  And it's going to be a wild ride,\" said Allan ...   \n",
       "4        1  The cards are issued by Mexico's consulates to...   \n",
       "\n",
       "                                                  D2  \n",
       "0  Ms Stewart, 61, its chief executive officer an...  \n",
       "1  After more than two years in detention by the ...  \n",
       "2  \"It remains to be seen whether the revenue rec...  \n",
       "3  Now the rest is just mechanical,\" said Allan H...  \n",
       "4  The card is issued by Mexico's consulates to i...  "
      ]
     },
     "execution_count": 67,
     "metadata": {},
     "output_type": "execute_result"
    }
   ],
   "source": [
    "paraphrases = pd.read_csv(r\"\\paraphrases.csv\")\n",
    "paraphrases.head()"
   ]
  },
  {
   "cell_type": "markdown",
   "id": "59b39a72-d975-4ee4-81b8-1c77adb0ff37",
   "metadata": {},
   "source": [
    "### most_similar_docs\n",
    "\n",
    "I used `document_path_similarity`, to find the pair of documents in paraphrases which has the maximum similarity score."
   ]
  },
  {
   "cell_type": "code",
   "execution_count": 68,
   "id": "eee1ae3b-2881-4061-9497-57fc8fecd9ec",
   "metadata": {},
   "outputs": [
    {
     "data": {
      "text/plain": [
       "('\"Indeed, Iran should be put on notice that efforts to try to remake Iraq in their image will be aggressively put down,\" he said.',\n",
       " '\"Iran should be on notice that attempts to remake Iraq in Iran\\'s image will be aggressively put down,\" he said.\\n',\n",
       " 0.9590643274853801)"
      ]
     },
     "execution_count": 68,
     "metadata": {},
     "output_type": "execute_result"
    }
   ],
   "source": [
    "def most_similar_docs():\n",
    "    paraphrases['similarity_score'] = paraphrases.apply(lambda x:document_path_similarity(x['D1'],x['D2']), axis=1)\n",
    "    sorted_paraphrases = paraphrases.sort_values('similarity_score', ascending = False)\n",
    "    d1 =sorted_paraphrases['D1'].iloc[0]\n",
    "    d2 =sorted_paraphrases['D2'].iloc[0]\n",
    "    similarity_score = sorted_paraphrases['similarity_score'].iloc[0]\n",
    "    # ans = paraphrases.loc[paraphrases['similarity_score'] == paraphrases['similarity_score'].max()].squeeze().values\n",
    "    # return (ans[1],ans[2],ans[3])\n",
    "    return d1,d2,similarity_score\n",
    "    # return sorted_paraphrases.iloc[0]\n",
    "most_similar_docs()"
   ]
  },
  {
   "cell_type": "markdown",
   "id": "ba3521f3-358e-4005-ab4f-01cd7564e09e",
   "metadata": {},
   "source": [
    "### label_accuracy\n",
    "\n",
    "I provide labels for the twenty pairs of documents by computing the similarity for each pair using `document_path_similarity`. The classifier rule was that if the score is greater than 0.75, the label is a paraphrase (1), else the label is paraphrase (0). The accuracy of the classifier is reported using scikit-learn's accuracy_score."
   ]
  },
  {
   "cell_type": "code",
   "execution_count": 69,
   "id": "c73dcc0f-03a6-4dfa-9fe4-8bb92dd3827f",
   "metadata": {},
   "outputs": [
    {
     "data": {
      "text/plain": [
       "0.7"
      ]
     },
     "execution_count": 69,
     "metadata": {},
     "output_type": "execute_result"
    }
   ],
   "source": [
    "def label_accuracy():\n",
    "    from sklearn.metrics import accuracy_score\n",
    "    paraphrases['similarity_score'] = paraphrases.apply(lambda x:document_path_similarity(x['D1'],x['D2']), axis=1)\n",
    "    paraphrases['classifier'] = np.where(paraphrases['similarity_score'] >0.75, 1, 0)\n",
    "    \n",
    "    return accuracy_score(paraphrases['Quality'], paraphrases['classifier'])\n",
    "\n",
    "label_accuracy()"
   ]
  },
  {
   "cell_type": "markdown",
   "id": "7695bf79-3cb4-4afd-9169-343852cd0ae6",
   "metadata": {},
   "source": [
    "## Part 2 - Topic Modelling\n",
    "\n",
    "For the second part of this project, I used Gensim's LDA (Latent Dirichlet Allocation) model to model topics in `newsgroup_data`. I first used gensim.models.ldamodel.LdaModel constructor to estimate LDA model parameters on the corpus, and saved them to the variable `ldamodel`. I then extract 10 topics using `corpus` and `id_map`, and with `passes=25` and `random_state=34`."
   ]
  },
  {
   "cell_type": "code",
   "execution_count": 70,
   "id": "1b8e120f-1a67-4fa3-89e2-884a33be2e6f",
   "metadata": {},
   "outputs": [],
   "source": [
    "import pickle\n",
    "import gensim\n",
    "from sklearn.feature_extraction.text import CountVectorizer\n",
    "\n",
    "# Load the list of documents\n",
    "with open(r\"\\newsgroups\",\n",
    "          'rb') as f:\n",
    "    newsgroup_data = pickle.load(f)\n",
    "\n",
    "# Used CountVectorizor to find three letter tokens, remove stop_words, \n",
    "# removed tokens that don't appear in at least 20 documents,\n",
    "# removed tokens that appear in more than 20% of the documents\n",
    "vect = CountVectorizer(min_df=20, max_df=0.2, stop_words='english', \n",
    "                       token_pattern='(?u)\\\\b\\\\w\\\\w\\\\w+\\\\b')\n",
    "# Fit and transform\n",
    "X = vect.fit_transform(newsgroup_data)\n",
    "\n",
    "# Convert sparse matrix to gensim corpus.\n",
    "corpus = gensim.matutils.Sparse2Corpus(X, documents_columns=False)\n",
    "\n",
    "# Mapping from word IDs to words (To be used in LdaModel's id2word parameter)\n",
    "id_map = dict((v, k) for k, v in vect.vocabulary_.items())\n"
   ]
  },
  {
   "cell_type": "code",
   "execution_count": 71,
   "id": "ede36783-5865-455e-a854-e1546abd4f66",
   "metadata": {},
   "outputs": [],
   "source": [
    "# Used the gensim.models.ldamodel.LdaModel constructor to estimate \n",
    "# LDA model parameters on the corpus, and save to the variable `ldamodel`\n",
    "ldamodel = gensim.models.ldamodel.LdaModel(corpus=corpus, id2word=id_map, random_state=34, \n",
    "                                           passes=25, num_topics = 10)"
   ]
  },
  {
   "cell_type": "markdown",
   "id": "c77560b5-2d40-4190-b445-508919b5a397",
   "metadata": {},
   "source": [
    "### lda_topics\n",
    "\n",
    "I used `ldamodel` to find a list of the 10 topics and the most significant 10 words in each topic. This is structured as a list of 10 tuples where each tuple takes on the form:\n",
    "\n",
    "`(9, '0.068*\"space\" + 0.036*\"nasa\" + 0.021*\"science\" + 0.020*\"edu\" + 0.019*\"data\" + 0.017*\"shuttle\" + 0.015*\"launch\" + 0.015*\"available\" + 0.014*\"center\" + 0.013*\"information\"')`"
   ]
  },
  {
   "cell_type": "code",
   "execution_count": 72,
   "id": "12f81314-0467-4d4a-87b0-12c2ce9d1cbd",
   "metadata": {},
   "outputs": [
    {
     "data": {
      "text/plain": [
       "[(0,\n",
       "  '0.056*\"edu\" + 0.043*\"com\" + 0.033*\"thanks\" + 0.022*\"mail\" + 0.021*\"know\" + 0.020*\"does\" + 0.014*\"info\" + 0.012*\"monitor\" + 0.010*\"looking\" + 0.010*\"don\"'),\n",
       " (1,\n",
       "  '0.024*\"ground\" + 0.018*\"current\" + 0.018*\"just\" + 0.013*\"want\" + 0.013*\"use\" + 0.011*\"using\" + 0.011*\"used\" + 0.010*\"power\" + 0.010*\"speed\" + 0.010*\"output\"'),\n",
       " (2,\n",
       "  '0.061*\"drive\" + 0.042*\"disk\" + 0.033*\"scsi\" + 0.030*\"drives\" + 0.028*\"hard\" + 0.028*\"controller\" + 0.027*\"card\" + 0.020*\"rom\" + 0.018*\"floppy\" + 0.017*\"bus\"'),\n",
       " (3,\n",
       "  '0.023*\"time\" + 0.015*\"atheism\" + 0.014*\"list\" + 0.013*\"left\" + 0.012*\"alt\" + 0.012*\"faq\" + 0.012*\"probably\" + 0.011*\"know\" + 0.011*\"send\" + 0.010*\"months\"'),\n",
       " (4,\n",
       "  '0.025*\"car\" + 0.016*\"just\" + 0.014*\"don\" + 0.014*\"bike\" + 0.012*\"good\" + 0.011*\"new\" + 0.011*\"think\" + 0.010*\"year\" + 0.010*\"cars\" + 0.010*\"time\"'),\n",
       " (5,\n",
       "  '0.030*\"game\" + 0.027*\"team\" + 0.023*\"year\" + 0.017*\"games\" + 0.016*\"play\" + 0.012*\"season\" + 0.012*\"players\" + 0.012*\"win\" + 0.011*\"hockey\" + 0.011*\"good\"'),\n",
       " (6,\n",
       "  '0.017*\"information\" + 0.014*\"help\" + 0.014*\"medical\" + 0.012*\"new\" + 0.012*\"use\" + 0.012*\"000\" + 0.012*\"research\" + 0.011*\"university\" + 0.010*\"number\" + 0.010*\"program\"'),\n",
       " (7,\n",
       "  '0.022*\"don\" + 0.021*\"people\" + 0.018*\"think\" + 0.017*\"just\" + 0.012*\"say\" + 0.011*\"know\" + 0.011*\"does\" + 0.011*\"good\" + 0.010*\"god\" + 0.009*\"way\"'),\n",
       " (8,\n",
       "  '0.034*\"use\" + 0.023*\"apple\" + 0.020*\"power\" + 0.016*\"time\" + 0.015*\"data\" + 0.015*\"software\" + 0.012*\"pin\" + 0.012*\"memory\" + 0.012*\"simms\" + 0.011*\"port\"'),\n",
       " (9,\n",
       "  '0.068*\"space\" + 0.036*\"nasa\" + 0.021*\"science\" + 0.020*\"edu\" + 0.019*\"data\" + 0.017*\"shuttle\" + 0.015*\"launch\" + 0.015*\"available\" + 0.014*\"center\" + 0.014*\"sci\"')]"
      ]
     },
     "execution_count": 72,
     "metadata": {},
     "output_type": "execute_result"
    }
   ],
   "source": [
    "def lda_topics():\n",
    "    return ldamodel.print_topics()\n",
    "lda_topics()"
   ]
  },
  {
   "cell_type": "markdown",
   "id": "8afd487a-bc97-4da9-886e-9b45effc5f74",
   "metadata": {},
   "source": [
    "### topic_distribution\n",
    "\n",
    "For the  document `new_doc`, I found the topic distribution.\n",
    "\n",
    "*This function returns a list of tuples, where each tuple is `(#topic, probability)`*"
   ]
  },
  {
   "cell_type": "code",
   "execution_count": 73,
   "id": "0e234a2f-35c0-43cb-bbe8-2a65de600ce1",
   "metadata": {},
   "outputs": [],
   "source": [
    "new_doc = [\"\\n\\nIt's my understanding that the freezing will start to occur because \\\n",
    "of the\\ngrowing distance of Pluto and Charon from the Sun, due to it's\\nelliptical orbit. \\\n",
    "It is not due to shadowing effects. \\n\\n\\nPluto can shadow Charon, and vice-versa.\\n\\nGeorge \\\n",
    "Krumins\\n-- \"]"
   ]
  },
  {
   "cell_type": "code",
   "execution_count": 74,
   "id": "e9b683c9-3827-43fe-85a0-7df236d2cd6e",
   "metadata": {},
   "outputs": [
    {
     "data": {
      "text/plain": [
       "[(0, 0.020003108),\n",
       " (1, 0.020003324),\n",
       " (2, 0.020001281),\n",
       " (3, 0.49674895),\n",
       " (4, 0.020004038),\n",
       " (5, 0.020004129),\n",
       " (6, 0.020002972),\n",
       " (7, 0.020002645),\n",
       " (8, 0.020003129),\n",
       " (9, 0.34322643)]"
      ]
     },
     "execution_count": 74,
     "metadata": {},
     "output_type": "execute_result"
    }
   ],
   "source": [
    "def topic_distribution():\n",
    "   \n",
    "    Y = vect.transform(new_doc)\n",
    "    corpus2 = gensim.matutils.Sparse2Corpus(Y, documents_columns=False)\n",
    "    # ldamodel2 = gensim.models.ldamodel.LdaModel(corpus=corpus, id2word=id_map, random_state=34, passes=25, num_topics = 10)\n",
    "    return list(ldamodel.get_document_topics(corpus2))[0]\n",
    "topic_distribution()"
   ]
  },
  {
   "cell_type": "markdown",
   "id": "ac069821-c03a-4ea5-abbb-daf0bb5ce7ee",
   "metadata": {},
   "source": [
    "### topic_names\n",
    "\n",
    "From the list of the following given topics, I assigned topic names to the topics I found. If none of these names best matched the topics I created a new 1-3 word \"title\" for the topic.\n",
    "\n",
    "Topics: Health, Science, Automobiles, Politics, Government, Travel, Computers & IT, Sports, Business, Society & Lifestyle, Religion, Education."
   ]
  },
  {
   "cell_type": "code",
   "execution_count": 75,
   "id": "4bfd199d-41a1-4c73-ba6a-8d63b0d73941",
   "metadata": {},
   "outputs": [
    {
     "data": {
      "text/plain": [
       "['Society & Lifestyle',\n",
       " 'Education',\n",
       " 'Education',\n",
       " 'Society & Lifestyle',\n",
       " 'Automobiles',\n",
       " 'Education',\n",
       " 'Education',\n",
       " 'Society & Lifestyle',\n",
       " 'Education',\n",
       " 'Society & Lifestyle']"
      ]
     },
     "execution_count": 75,
     "metadata": {},
     "output_type": "execute_result"
    }
   ],
   "source": [
    "def topic_names():\n",
    "    labels = ['Health', 'Automobiles', 'Government', 'Travel', 'Computers & IT', 'Sports', 'Business', 'Society & Lifestyle', 'Region', 'Education']\n",
    "\n",
    "    topics = lda_topics()\n",
    "\n",
    "    results = []\n",
    "    for x in topics:\n",
    "        sim = []\n",
    "        for y in labels:\n",
    "            sim.append(document_path_similarity(str(x),str(y)))\n",
    "        best = sorted(zip(sim, labels))[-1][1]\n",
    "        results.append(best)\n",
    "    return results\n",
    "topic_names()"
   ]
  }
 ],
 "metadata": {
  "kernelspec": {
   "display_name": "Python 3 (ipykernel)",
   "language": "python",
   "name": "python3"
  },
  "language_info": {
   "codemirror_mode": {
    "name": "ipython",
    "version": 3
   },
   "file_extension": ".py",
   "mimetype": "text/x-python",
   "name": "python",
   "nbconvert_exporter": "python",
   "pygments_lexer": "ipython3",
   "version": "3.7.9"
  }
 },
 "nbformat": 4,
 "nbformat_minor": 5
}
